{
  "nbformat": 4,
  "nbformat_minor": 0,
  "metadata": {
    "colab": {
      "name": "Valid Palindrome 125 Leetcode .ipynb",
      "provenance": [],
      "authorship_tag": "ABX9TyPwlnfkhPYgp48C1NMOaZvW",
      "include_colab_link": true
    },
    "kernelspec": {
      "name": "python3",
      "display_name": "Python 3"
    },
    "language_info": {
      "name": "python"
    }
  },
  "cells": [
    {
      "cell_type": "markdown",
      "metadata": {
        "id": "view-in-github",
        "colab_type": "text"
      },
      "source": [
        "<a href=\"https://colab.research.google.com/github/plthiyagu/0.SQL_for_DataScience/blob/master/22-LeetCode/Valid_Palindrome_125_Leetcode_.ipynb\" target=\"_parent\"><img src=\"https://colab.research.google.com/assets/colab-badge.svg\" alt=\"Open In Colab\"/></a>"
      ]
    },
    {
      "cell_type": "code",
      "metadata": {
        "id": "8cuEbU45__tf"
      },
      "source": [
        ""
      ],
      "execution_count": null,
      "outputs": []
    },
    {
      "cell_type": "code",
      "metadata": {
        "id": "yUDGAkO9AAj7"
      },
      "source": [
        "def isPalindrome( s):\n",
        "    \"\"\"\n",
        "    :type s: str\n",
        "    :rtype: bool\n",
        "    \"\"\"\n",
        "    res = \"\"\n",
        "    for i in s:\n",
        "        if i.isalnum():\n",
        "            res +=i.lower()\n",
        "    \n",
        "    n= len(res)\n",
        "    l= 0\n",
        "    r= n-1\n",
        "    \n",
        "    while l < r:\n",
        "        if res[l] != res[r]:\n",
        "            return False\n",
        "        l +=1\n",
        "        r -=1\n",
        "    return True      \n",
        "    "
      ],
      "execution_count": 1,
      "outputs": []
    },
    {
      "cell_type": "code",
      "metadata": {
        "colab": {
          "base_uri": "https://localhost:8080/"
        },
        "id": "6VuuFmUTAFiJ",
        "outputId": "ff1731c1-3374-4186-bf8c-b5d22d7c8c96"
      },
      "source": [
        "s=\"A man, a plan, a canal: Panama\"\n",
        "isPalindrome( s)"
      ],
      "execution_count": 2,
      "outputs": [
        {
          "output_type": "execute_result",
          "data": {
            "text/plain": [
              "True"
            ]
          },
          "metadata": {
            "tags": []
          },
          "execution_count": 2
        }
      ]
    },
    {
      "cell_type": "code",
      "metadata": {
        "id": "SMSoQfrEAMsR"
      },
      "source": [
        ""
      ],
      "execution_count": null,
      "outputs": []
    }
  ]
}