{
  "nbformat": 4,
  "nbformat_minor": 0,
  "metadata": {
    "colab": {
      "name": "461. Hamming Distance LeetCode.ipynb",
      "provenance": [],
      "authorship_tag": "ABX9TyNnYeHKykCR6xVDRzgfqWXq",
      "include_colab_link": true
    },
    "kernelspec": {
      "name": "python3",
      "display_name": "Python 3"
    },
    "language_info": {
      "name": "python"
    }
  },
  "cells": [
    {
      "cell_type": "markdown",
      "metadata": {
        "id": "view-in-github",
        "colab_type": "text"
      },
      "source": [
        "<a href=\"https://colab.research.google.com/github/plthiyagu/0.SQL_for_DataScience/blob/master/15-LeetCode/461_Hamming_Distance_LeetCode.ipynb\" target=\"_parent\"><img src=\"https://colab.research.google.com/assets/colab-badge.svg\" alt=\"Open In Colab\"/></a>"
      ]
    },
    {
      "cell_type": "code",
      "execution_count": 1,
      "metadata": {
        "id": "dhGE0_RqdmBt"
      },
      "outputs": [],
      "source": [
        "class Solution:\n",
        "    def hammingDistance(self, x: int, y: int) -> int:\n",
        "        tmp = x ^ y\n",
        "        res = 0\n",
        "        while tmp > 0:\n",
        "            res += tmp & 1\n",
        "            tmp >>= 1\n",
        "        return res"
      ]
    },
    {
      "cell_type": "code",
      "source": [
        "class Solution:\n",
        "    def hammingDistance(self, x: int, y: int) -> int:\n",
        "        return bin(x ^ y).count('1')"
      ],
      "metadata": {
        "id": "iQ3Y2KDsdm5G"
      },
      "execution_count": 2,
      "outputs": []
    },
    {
      "cell_type": "code",
      "source": [
        "x = 1\n",
        "y = 4\n",
        "sol = Solution()\n",
        "sol.hammingDistance(x,y)"
      ],
      "metadata": {
        "colab": {
          "base_uri": "https://localhost:8080/"
        },
        "id": "SGOzyYkSdo5C",
        "outputId": "3626a45e-8a11-46b8-ef71-d66a25e8c2ea"
      },
      "execution_count": 3,
      "outputs": [
        {
          "output_type": "execute_result",
          "data": {
            "text/plain": [
              "2"
            ]
          },
          "metadata": {},
          "execution_count": 3
        }
      ]
    },
    {
      "cell_type": "code",
      "source": [
        ""
      ],
      "metadata": {
        "id": "HPwEYE78d0td"
      },
      "execution_count": null,
      "outputs": []
    }
  ]
}